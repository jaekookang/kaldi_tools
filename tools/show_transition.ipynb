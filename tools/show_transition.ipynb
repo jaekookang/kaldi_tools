{
 "cells": [
  {
   "cell_type": "markdown",
   "metadata": {},
   "source": [
    "# Show transition\n",
    "\n",
    "- 목적: final.mdl에 있는 HMM transition information 추출\n",
    "- 인풋:\n",
    "    - phones.txt\n",
    "    - final.mdl\n",
    "- 아웃풋:\n",
    "    - trans_out.txt"
   ]
  },
  {
   "cell_type": "markdown",
   "metadata": {},
   "source": [
    "## 준비"
   ]
  },
  {
   "cell_type": "code",
   "execution_count": 8,
   "metadata": {
    "collapsed": true
   },
   "outputs": [],
   "source": [
    "KALDI_HOME=/home/kaldi\n",
    "phones_txt=../data/phones.txt\n",
    "final_mdl=../data/models/final.mdl\n",
    "trans_out=../result/trans.out"
   ]
  },
  {
   "cell_type": "code",
   "execution_count": 14,
   "metadata": {},
   "outputs": [
    {
     "name": "stdout",
     "output_type": "stream",
     "text": [
      "/home/kaldi/src/bin/show-transitions \n",
      "\n",
      "Print debugging info from transition model, in human-readable form\n",
      "Usage:  show-transitions <phones-symbol-table> <transition/model-file> [<occs-file>]\n",
      "e.g.: \n",
      " show-transitions phones.txt 1.mdl 1.occs\n",
      "\n",
      "Standard options:\n",
      "  --config                    : Configuration file to read (this option may be repeated) (string, default = \"\")\n",
      "  --help                      : Print out usage message (bool, default = false)\n",
      "  --print-args                : Print the command line arguments (to stderr) (bool, default = true)\n",
      "  --verbose                   : Verbose level (higher->more logging) (int, default = 0)\n",
      "\n"
     ]
    },
    {
     "ename": "",
     "evalue": "1",
     "output_type": "error",
     "traceback": []
    }
   ],
   "source": [
    "$KALDI_HOME/src/bin/show-transitions"
   ]
  },
  {
   "cell_type": "markdown",
   "metadata": {},
   "source": [
    "## 실행"
   ]
  },
  {
   "cell_type": "code",
   "execution_count": 10,
   "metadata": {},
   "outputs": [
    {
     "name": "stdout",
     "output_type": "stream",
     "text": [
      "/home/kaldi/src/bin/show-transitions ../data/phones.txt ../data/models/final.mdl \n"
     ]
    }
   ],
   "source": [
    "$KALDI_HOME/src/bin/show-transitions $phones_txt $final_mdl > $trans_out"
   ]
  },
  {
   "cell_type": "markdown",
   "metadata": {},
   "source": [
    "## 결과"
   ]
  },
  {
   "cell_type": "code",
   "execution_count": 13,
   "metadata": {},
   "outputs": [
    {
     "name": "stdout",
     "output_type": "stream",
     "text": [
      "Transition-state 1: phone = SIL hmm-state = 0 pdf = 0\n",
      " Transition-id = 1 p = 0.910782 [self-loop]\n",
      " Transition-id = 2 p = 0.0103354 [0 -> 1]\n",
      " Transition-id = 3 p = 0.01 [0 -> 2]\n",
      " Transition-id = 4 p = 0.0688832 [0 -> 3]\n",
      "Transition-state 2: phone = SIL hmm-state = 1 pdf = 45\n",
      " Transition-id = 5 p = 0.95967 [self-loop]\n",
      " Transition-id = 6 p = 0.01 [1 -> 2]\n",
      " Transition-id = 7 p = 0.01 [1 -> 3]\n",
      " Transition-id = 8 p = 0.0203355 [1 -> 4]\n",
      "Transition-state 3: phone = SIL hmm-state = 2 pdf = 41\n",
      " Transition-id = 9 p = 0.01 [2 -> 1]\n",
      " Transition-id = 10 p = 0.953484 [self-loop]\n",
      " Transition-id = 11 p = 0.01 [2 -> 3]\n",
      " Transition-id = 12 p = 0.0265215 [2 -> 4]\n",
      "Transition-state 4: phone = SIL hmm-state = 3 pdf = 42\n",
      " Transition-id = 13 p = 0.01 [3 -> 1]\n",
      " Transition-id = 14 p = 0.01 [3 -> 2]\n",
      " Transition-id = 15 p = 0.889257 [self-loop]\n",
      " Transition-id = 16 p = 0.0907499 [3 -> 4]\n"
     ]
    }
   ],
   "source": [
    "head -n 20 $trans_out"
   ]
  }
 ],
 "metadata": {
  "kernelspec": {
   "display_name": "Bash",
   "language": "bash",
   "name": "bash"
  },
  "language_info": {
   "codemirror_mode": "shell",
   "file_extension": ".sh",
   "mimetype": "text/x-sh",
   "name": "bash"
  }
 },
 "nbformat": 4,
 "nbformat_minor": 2
}

{
 "cells": [
  {
   "cell_type": "markdown",
   "metadata": {},
   "source": [
    "# Convert final.mdl to .txt file\n",
    "\n",
    "- 목적: final.mdl파일을 보기 쉽게 .txt파일로 변환\n",
    "- 인풋:\n",
    "    - final.mdl\n",
    "- 아웃풋:\n",
    "    - .txt"
   ]
  },
  {
   "cell_type": "markdown",
   "metadata": {},
   "source": [
    "## 준비"
   ]
  },
  {
   "cell_type": "code",
   "execution_count": 2,
   "metadata": {},
   "outputs": [],
   "source": [
    "KALDI_HOME=/home/kaldi\n",
    "final_mdl=../data/models/final.mdl\n",
    "final_txt=../result/final.txt"
   ]
  },
  {
   "cell_type": "code",
   "execution_count": 3,
   "metadata": {},
   "outputs": [
    {
     "name": "stdout",
     "output_type": "stream",
     "text": [
      "/home/kaldi/src/gmmbin/gmm-copy \n",
      "\n",
      "Copy GMM based model (and possibly change binary/text format)\n",
      "Usage:  gmm-copy [options] <model-in> <model-out>\n",
      "e.g.:\n",
      " gmm-copy --binary=false 1.mdl 1_txt.mdl\n",
      "\n",
      "Options:\n",
      "  --binary                    : Write output in binary mode (bool, default = true)\n",
      "  --copy-am                   : Copy the acoustic model (AmDiagGmm object) (bool, default = true)\n",
      "  --copy-tm                   : Copy the transition model (bool, default = true)\n",
      "\n",
      "Standard options:\n",
      "  --config                    : Configuration file to read (this option may be repeated) (string, default = \"\")\n",
      "  --help                      : Print out usage message (bool, default = false)\n",
      "  --print-args                : Print the command line arguments (to stderr) (bool, default = true)\n",
      "  --verbose                   : Verbose level (higher->more logging) (int, default = 0)\n",
      "\n"
     ]
    },
    {
     "ename": "",
     "evalue": "1",
     "output_type": "error",
     "traceback": []
    }
   ],
   "source": [
    "$KALDI_HOME/src/gmmbin/gmm-copy"
   ]
  },
  {
   "cell_type": "markdown",
   "metadata": {},
   "source": [
    "## 실행"
   ]
  },
  {
   "cell_type": "code",
   "execution_count": 4,
   "metadata": {},
   "outputs": [
    {
     "name": "stdout",
     "output_type": "stream",
     "text": [
      "/home/kaldi/src/gmmbin/gmm-copy --binary=false ../data/models/final.mdl ../result/final.txt \n",
      "LOG (gmm-copy[5.2.38~1-b82b8]:main():gmm-copy.cc:75) Written model to ../result/final.txt\n"
     ]
    }
   ],
   "source": [
    "$KALDI_HOME/src/gmmbin/gmm-copy --binary=false $final_mdl $final_txt"
   ]
  },
  {
   "cell_type": "markdown",
   "metadata": {},
   "source": [
    "## 결과"
   ]
  },
  {
   "cell_type": "code",
   "execution_count": 5,
   "metadata": {},
   "outputs": [
    {
     "name": "stdout",
     "output_type": "stream",
     "text": [
      "<TransitionModel> \n",
      "<Topology> \n",
      "<TopologyEntry> \n",
      "<ForPhones> \n",
      "11 12 13 14 15 16 17 18 19 20 21 22 23 24 25 26 27 28 29 30 31 32 33 34 35 36 37 38 39 40 41 42 43 44 45 46 47 48 49 50 51 52 53 54 55 56 57 58 59 60 61 62 63 64 65 66 67 68 69 70 71 72 73 74 75 76 77 78 79 80 81 82 83 84 85 86 87 88 89 90 91 92 93 94 95 96 97 98 99 100 101 102 103 104 105 106 107 108 109 110 111 112 113 114 115 116 117 118 119 120 121 122 123 124 125 126 127 128 129 130 131 132 133 134 135 136 137 138 139 140 141 142 143 144 145 146 147 148 149 150 151 152 153 154 155 156 157 158 159 160 161 162 163 164 165 166 167 168 169 170 171 172 173 174 175 176 177 178 179 180 181 182 183 184 185 186 187 188 189 190 191 192 193 194 195 196 197 198 199 200 201 202 203 204 205 206 207 208 209 210 211 212 213 214 215 216 217 218 219 220 221 222 223 224 225 226 227 228 229 230 231 232 233 234 235 236 237 238 239 240 241 242 243 244 245 246 247 248 249 250 251 252 253 254 255 256 257 258 259 260 261 262 263 264 265 266 267 268 269 270 271 272 273 274 275 276 277 278 279 280 281 282 283 284 285 286 287 288 289 290 291 292 293 294 295 296 297 298 299 300 301 302 303 304 305 306 307 308 309 310 311 312 313 314 315 316 317 318 319 320 321 322 323 324 325 326 327 328 329 330 331 332 333 334 335 336 337 338 339 340 341 342 343 344 345 346 \n",
      "</ForPhones> \n",
      "<State> 0 <PdfClass> 0 <Transition> 0 0.75 <Transition> 1 0.25 </State> \n",
      "<State> 1 <PdfClass> 1 <Transition> 1 0.75 <Transition> 2 0.25 </State> \n",
      "<State> 2 <PdfClass> 2 <Transition> 2 0.75 <Transition> 3 0.25 </State> \n",
      "<State> 3 </State> \n",
      "</TopologyEntry> \n",
      "<TopologyEntry> \n",
      "<ForPhones> \n",
      "1 2 3 4 5 6 7 8 9 10 \n",
      "</ForPhones> \n",
      "<State> 0 <PdfClass> 0 <Transition> 0 0.25 <Transition> 1 0.25 <Transition> 2 0.25 <Transition> 3 0.25 </State> \n",
      "<State> 1 <PdfClass> 1 <Transition> 1 0.25 <Transition> 2 0.25 <Transition> 3 0.25 <Transition> 4 0.25 </State> \n",
      "<State> 2 <PdfClass> 2 <Transition> 1 0.25 <Transition> 2 0.25 <Transition> 3 0.25 <Transition> 4 0.25 </State> \n",
      "<State> 3 <PdfClass> 3 <Transition> 1 0.25 <Transition> 2 0.25 <Transition> 3 0.25 <Transition> 4 0.25 </State> \n",
      "<State> 4 <PdfClass> 4 <Transition> 4 0.75 <Transition> 5 0.25 </State> \n"
     ]
    }
   ],
   "source": [
    "head -n 20 $final_txt"
   ]
  }
 ],
 "metadata": {
  "kernelspec": {
   "display_name": "Bash",
   "language": "bash",
   "name": "bash"
  },
  "language_info": {
   "codemirror_mode": "shell",
   "file_extension": ".sh",
   "mimetype": "text/x-sh",
   "name": "bash"
  }
 },
 "nbformat": 4,
 "nbformat_minor": 2
}

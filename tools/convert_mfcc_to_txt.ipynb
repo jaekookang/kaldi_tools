{
 "cells": [
  {
   "cell_type": "markdown",
   "metadata": {},
   "source": [
    "# Convert mfcc files into .txt files\n",
    "\n",
    "- 목적: 바이너리 형태의 mfcc\\*.ark파일을 .txt파일로 변환\n",
    "- 인풋:\n",
    "    - ark_file: e.g., raw_mfcc_trans1.1.ark\n",
    "- 아웃풋:\n",
    "    - .txt\n",
    "    "
   ]
  },
  {
   "cell_type": "markdown",
   "metadata": {},
   "source": [
    "## 준비"
   ]
  },
  {
   "cell_type": "code",
   "execution_count": 18,
   "metadata": {
    "collapsed": true
   },
   "outputs": [],
   "source": [
    "KALDI_HOME=/home/kaldi\n",
    "mfcc_arc=../data/mfcc/raw_mfcc_train_dir.1.ark\n",
    "mfcc_txt=../result/mfcc.txt"
   ]
  },
  {
   "cell_type": "code",
   "execution_count": 19,
   "metadata": {},
   "outputs": [
    {
     "name": "stdout",
     "output_type": "stream",
     "text": [
      "/home/kaldi/src/featbin/copy-feats \n",
      "\n",
      "Copy features [and possibly change format]\n",
      "Usage: copy-feats [options] <feature-rspecifier> <feature-wspecifier>\n",
      "or:   copy-feats [options] <feats-rxfilename> <feats-wxfilename>\n",
      "e.g.: copy-feats ark:- ark,scp:foo.ark,foo.scp\n",
      " or: copy-feats ark:foo.ark ark,t:txt.ark\n",
      "See also: copy-matrix, copy-feats-to-htk, copy-feats-to-sphinx, select-feats,\n",
      "extract-rows, subset-feats, subsample-feats, splice-feats, paste-feats,\n",
      "concat-feats\n",
      "\n",
      "Options:\n",
      "  --binary                    : Binary-mode output (not relevant if writing to archive) (bool, default = true)\n",
      "  --compress                  : If true, write output in compressed form(only currently supported for wxfilename, i.e. archive/script,output) (bool, default = false)\n",
      "  --compression-method        : Only relevant if --compress=true; the method (1 through 7) to compress the matrix.  Search for CompressionMethod in src/matrix/compressed-matrix.h. (int, default = 1)\n",
      "  --htk-in                    : Read input as HTK features (bool, default = false)\n",
      "  --sphinx-in                 : Read input as Sphinx features (bool, default = false)\n",
      "  --write-num-frames          : Wspecifier to write length in frames of each utterance. e.g. 'ark,t:utt2num_frames'.  Only applicable if writing tables, not when this program is writing individual files.  See also feat-to-len. (string, default = \"\")\n",
      "\n",
      "Standard options:\n",
      "  --config                    : Configuration file to read (this option may be repeated) (string, default = \"\")\n",
      "  --help                      : Print out usage message (bool, default = false)\n",
      "  --print-args                : Print the command line arguments (to stderr) (bool, default = true)\n",
      "  --verbose                   : Verbose level (higher->more logging) (int, default = 0)\n",
      "\n"
     ]
    },
    {
     "ename": "",
     "evalue": "1",
     "output_type": "error",
     "traceback": []
    }
   ],
   "source": [
    "$KALDI_HOME/src/featbin/copy-feats"
   ]
  },
  {
   "cell_type": "markdown",
   "metadata": {},
   "source": [
    "## 실행"
   ]
  },
  {
   "cell_type": "code",
   "execution_count": 20,
   "metadata": {},
   "outputs": [
    {
     "name": "stdout",
     "output_type": "stream",
     "text": [
      "/home/kaldi/src/featbin/copy-feats ark:../data/mfcc/raw_mfcc_train_dir.1.ark ark,t:../result/mfcc.txt \n",
      "LOG (copy-feats[5.2.38~1-b82b8]:main():copy-feats.cc:143) Copied 154 feature matrices.\n"
     ]
    }
   ],
   "source": [
    "$KALDI_HOME/src/featbin/copy-feats ark:$mfcc_arc ark,t:$mfcc_txt"
   ]
  },
  {
   "cell_type": "markdown",
   "metadata": {},
   "source": [
    "## 결과"
   ]
  },
  {
   "cell_type": "code",
   "execution_count": 21,
   "metadata": {},
   "outputs": [
    {
     "name": "stdout",
     "output_type": "stream",
     "text": [
      "lib-0001-fc-001  [\n",
      "  49.98315 -18.39097 3.796945 7.684175 5.692556 6.660341 7.910956 16.28138 14.49263 15.68855 12.61487 8.515968 3.0404 \n",
      "  50.39262 -15.28007 2.061392 4.811588 11.57804 7.666832 10.43918 4.649418 12.91405 13.34518 9.18795 16.9948 16.13501 \n",
      "  51.72341 -14.99727 -3.145267 2.75974 9.115518 4.980202 3.470953 14.1728 11.07257 5.114809 8.109948 11.09648 11.18428 \n",
      "  50.49499 -16.41125 2.177095 4.91418 11.30442 11.22661 10.12316 9.927223 12.91405 19.43794 10.59976 5.284386 5.218682 \n",
      "  49.4713 -16.12845 2.408503 5.73492 3.843149 9.248957 11.7033 13.75109 7.260305 23.656 10.59976 6.45817 12.42196 \n",
      "  49.88078 -17.07116 -2.103935 1.733816 8.568292 10.43555 9.491098 9.795278 18.43906 26.93672 10.09598 15.52022 10.56544 \n",
      "  51.31394 -14.71448 2.292799 1.220854 5.487066 10.04002 7.594928 12.48594 20.01763 15.21988 13.62243 7.778679 -2.405308 \n",
      "  50.08551 -14.85588 0.904357 -0.4206249 3.637659 2.841841 15.81167 13.75109 16.86048 18.96927 14.62999 21.04989 4.456284 \n",
      "  49.67604 -16.41125 2.755613 2.246778 2.815701 4.674721 10.75521 15.01623 20.80692 18.96927 8.918449 15.52022 5.000854 \n",
      "  49.77841 -17.07116 4.375463 6.555659 7.541962 3.758282 8.543014 12.90766 13.70334 11.47049 18.66022 6.751617 0.6442881 \n",
      "  49.1642 -18.39097 2.177095 12.51551 8.021065 12.41321 12.96741 7.420265 12.12477 6.65229 8.109948 9.621902 7.471235 \n",
      "  48.95946 -17.73106 6.226719 11.41486 10.20997 15.57745 11.38727 4.517472 6.865933 3.996639 9.322701 3.523707 0.3175459 \n",
      "  49.4713 -15.84566 4.838277 13.06584 12.12526 11.22661 15.81167 14.59452 12.12477 13.34518 15.13377 11.83377 14.5879 \n",
      "  52.03052 -12.59352 4.144055 4.708996 9.662745 15.18192 18.33989 10.58695 7.128848 6.792063 -1.996323 4.1106 6.089995 \n",
      "  57.46338 1.687614 13.88419 7.171213 -1.910561 -1.434879 10.75521 17.54652 12.12477 13.81386 1.641935 -7.920698 -7.088615 \n",
      "  55.47032 -1.140333 16.26581 3.683072 -3.348987 -5.558859 -4.719502 -2.607565 8.311963 4.136411 2.719937 -3.665727 -6.652959 \n",
      "  52.84947 -6.65483 17.05968 9.325654 -9.719165 -12.12668 -6.725328 12.06423 19.22834 20.37529 8.918449 -2.638665 4.238455 \n",
      "  61.94777 -19.05088 -3.029563 24.62264 -9.719165 -3.267759 -4.55235 -1.947839 21.5962 10.06447 7.705697 8.884613 2.604743 \n",
      "  57.96165 -16.41125 0.5572462 21.87102 -12.80151 -9.071878 -5.555263 -7.58794 21.5962 7.351147 8.109948 8.884613 -1.098338 \n"
     ]
    }
   ],
   "source": [
    "head -n 20 $mfcc_txt"
   ]
  }
 ],
 "metadata": {
  "kernelspec": {
   "display_name": "Bash",
   "language": "bash",
   "name": "bash"
  },
  "language_info": {
   "codemirror_mode": "shell",
   "file_extension": ".sh",
   "mimetype": "text/x-sh",
   "name": "bash"
  }
 },
 "nbformat": 4,
 "nbformat_minor": 2
}

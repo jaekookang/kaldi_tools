{
 "cells": [
  {
   "cell_type": "markdown",
   "metadata": {},
   "source": [
    "# Convert mfcc files into .txt files\n",
    "\n",
    "- 목적: 바이너리 형태의 mfcc\\*.ark파일을 .txt파일로 변환\n",
    "- 인풋:\n",
    "    - ark_file: e.g., raw_mfcc_trans1.1.ark\n",
    "- 아웃풋:\n",
    "    - .txt\n",
    "    "
   ]
  },
  {
   "cell_type": "markdown",
   "metadata": {},
   "source": [
    "## 준비"
   ]
  },
  {
   "cell_type": "code",
   "execution_count": 7,
   "metadata": {
    "collapsed": true
   },
   "outputs": [],
   "source": [
    "KALDI_HOME=/home/kaldi\n",
    "mfcc_arc=../data/mfcc/raw_mfcc_trans1.1.ark\n",
    "mfcc_txt=../result/mfcc.txt"
   ]
  },
  {
   "cell_type": "code",
   "execution_count": 9,
   "metadata": {},
   "outputs": [
    {
     "name": "stdout",
     "output_type": "stream",
     "text": [
      "/home/kaldi/src/featbin/copy-feats \n",
      "\n",
      "Copy features [and possibly change format]\n",
      "Usage: copy-feats [options] <feature-rspecifier> <feature-wspecifier>\n",
      "or:   copy-feats [options] <feats-rxfilename> <feats-wxfilename>\n",
      "e.g.: copy-feats ark:- ark,scp:foo.ark,foo.scp\n",
      " or: copy-feats ark:foo.ark ark,t:txt.ark\n",
      "See also: copy-matrix, copy-feats-to-htk, copy-feats-to-sphinx, select-feats,\n",
      "extract-rows, subset-feats, subsample-feats, splice-feats, paste-feats,\n",
      "concat-feats\n",
      "\n",
      "Options:\n",
      "  --binary                    : Binary-mode output (not relevant if writing to archive) (bool, default = true)\n",
      "  --compress                  : If true, write output in compressed form(only currently supported for wxfilename, i.e. archive/script,output) (bool, default = false)\n",
      "  --compression-method        : Only relevant if --compress=true; the method (1 through 7) to compress the matrix.  Search for CompressionMethod in src/matrix/compressed-matrix.h. (int, default = 1)\n",
      "  --htk-in                    : Read input as HTK features (bool, default = false)\n",
      "  --sphinx-in                 : Read input as Sphinx features (bool, default = false)\n",
      "  --write-num-frames          : Wspecifier to write length in frames of each utterance. e.g. 'ark,t:utt2num_frames'.  Only applicable if writing tables, not when this program is writing individual files.  See also feat-to-len. (string, default = \"\")\n",
      "\n",
      "Standard options:\n",
      "  --config                    : Configuration file to read (this option may be repeated) (string, default = \"\")\n",
      "  --help                      : Print out usage message (bool, default = false)\n",
      "  --print-args                : Print the command line arguments (to stderr) (bool, default = true)\n",
      "  --verbose                   : Verbose level (higher->more logging) (int, default = 0)\n",
      "\n"
     ]
    },
    {
     "ename": "",
     "evalue": "1",
     "output_type": "error",
     "traceback": []
    }
   ],
   "source": [
    "$KALDI_HOME/src/featbin/copy-feats"
   ]
  },
  {
   "cell_type": "markdown",
   "metadata": {},
   "source": [
    "## 실행"
   ]
  },
  {
   "cell_type": "code",
   "execution_count": 11,
   "metadata": {},
   "outputs": [
    {
     "name": "stdout",
     "output_type": "stream",
     "text": [
      "/home/kaldi/src/featbin/copy-feats ark:../data/mfcc/raw_mfcc_trans1.1.ark ark,t:../result/mfcc.txt \n",
      "LOG (copy-feats[5.2.38~1-b82b8]:main():copy-feats.cc:143) Copied 1 feature matrices.\n"
     ]
    }
   ],
   "source": [
    "$KALDI_HOME/src/featbin/copy-feats ark:$mfcc_arc ark,t:$mfcc_txt"
   ]
  },
  {
   "cell_type": "markdown",
   "metadata": {},
   "source": [
    "## 결과"
   ]
  },
  {
   "cell_type": "code",
   "execution_count": 12,
   "metadata": {},
   "outputs": [
    {
     "name": "stdout",
     "output_type": "stream",
     "text": [
      "test01  [\n",
      "  52.87971 -7.015843 -16.75322 -21.88922 -21.0952 -4.824256 2.641273 8.294731 0.5404905 -0.270422 7.480522 -6.675407 -18.55798 \n",
      "  54.14304 -4.562411 -10.17346 -15.41781 -16.21692 6.652474 9.252357 2.317001 -14.4807 -4.55954 14.3554 3.120318 -16.73352 \n",
      "  56.03802 -6.157142 -7.851185 -23.44936 -24.23123 -2.551257 -2.93144 -4.657017 -12.58802 7.060731 6.479219 2.720354 0.06593418 \n",
      "  53.89037 -4.685082 -11.20558 -23.18933 -20.04985 0.7824745 -4.498766 -8.153984 -4.134048 1.87518 1.90183 -10.78426 -12.04206 \n",
      "  53.25871 -5.911799 -13.1408 -19.80903 -10.02907 17.88276 -3.628029 -9.738041 -4.89112 5.64649 -0.8159943 -14.13268 -7.244055 \n",
      "  53.51138 -8.733246 -19.15426 -23.18933 -9.374279 14.81996 2.641273 -5.985401 -7.288515 0.9323524 2.760091 -7.497179 -3.527111 \n",
      "  52.37439 -8.855918 -17.14027 -21.88922 -6.568029 13.79902 4.844968 -1.668152 -1.862831 -0.6603413 1.90183 -10.68154 -7.615749 \n",
      "  54.3957 -5.789127 -16.75322 -19.54901 -5.071363 19.92464 5.395892 -7.645882 -4.134048 -2.479967 6.765306 -4.312815 1.181018 \n",
      "  53.25871 -8.855918 -23.73859 -23.70938 -1.797405 16.86183 10.35421 1.320713 -1.358116 -9.108603 14.05527 7.519919 -4.88999 \n",
      "  52.62705 -7.50653 -23.25603 -26.82966 -8.064695 10.73622 14.21067 2.981194 -4.512584 -3.259807 -4.105993 -6.059079 -1.544741 \n",
      "  52.75338 -6.7705 -21.32578 -33.33024 -14.47469 15.84089 13.10882 1.652809 -3.88169 -1.830101 -4.105993 -9.038 6.082354 \n",
      "  53.63771 -7.138515 -20.84322 -34.11031 -15.52003 7.673409 -3.976324 -9.386028 2.450948 4.703662 -0.2438211 -13.28024 -1.544741 \n",
      "  55.78535 -8.97859 -25.66883 -20.32908 -11.05803 12.26762 3.192197 -3.328633 6.271864 -1.830101 -14.99205 -23.72256 -2.783722 \n",
      "  57.20226 -14.48139 -33.87236 -18.50892 -12.03555 -0.2782583 1.248095 -7.645882 9.45596 -8.97863 -24.03196 -5.750915 12.69741 \n",
      "  55.28003 -11.12244 -29.7706 -27.60973 -6.568029 6.142006 7.048663 7.630539 -2.115189 -9.36855 -13.70063 -0.5121222 1.552711 \n",
      "  55.28003 -11.12244 -24.70371 -22.92931 0.6346779 7.673409 -10.59392 -7.977978 -5.143477 -10.79826 -8.540339 -14.98511 -2.040334 \n",
      "  55.91169 -7.50653 -23.49731 -26.04959 -6.380946 12.26762 1.59639 -2.66444 -2.746081 -12.61788 -2.675559 -2.052943 3.287286 \n",
      "  55.02736 -8.242559 -22.53218 -25.78957 -3.76178 18.39323 5.395892 -6.317497 -7.667051 -7.808871 -7.968164 -11.40059 1.67661 \n",
      "  53.76404 -6.157142 -25.42755 -29.16987 -6.848654 13.28856 -5.369503 -21.70647 -23.86246 -24.60873 -7.968164 -15.62444 4.27847 \n"
     ]
    }
   ],
   "source": [
    "head -n 20 $mfcc_txt"
   ]
  }
 ],
 "metadata": {
  "kernelspec": {
   "display_name": "Bash",
   "language": "bash",
   "name": "bash"
  },
  "language_info": {
   "codemirror_mode": "shell",
   "file_extension": ".sh",
   "mimetype": "text/x-sh",
   "name": "bash"
  }
 },
 "nbformat": 4,
 "nbformat_minor": 2
}

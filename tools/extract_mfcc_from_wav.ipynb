{
 "cells": [
  {
   "cell_type": "markdown",
   "metadata": {},
   "source": [
    "# Extract MFCCs from .wav file\n",
    "\n",
    "- 목적: .wav파일로부터 mfcc추출\n",
    "- 인풋:\n",
    "    - .wav\n",
    "- 아웃풋:\n",
    "    - (commandline display)\n",
    "    "
   ]
  },
  {
   "cell_type": "code",
   "execution_count": 6,
   "metadata": {
    "collapsed": true
   },
   "outputs": [],
   "source": [
    "KALDI_HOME=/home/kaldi\n",
    "wav=../data/lib-0001-fc-008-part.wav\n",
    "scp=../data/lib-0001-fc-008-part.scp\n",
    "out=../data/lib-0001-fc-008-part.mfcc"
   ]
  },
  {
   "cell_type": "code",
   "execution_count": 3,
   "metadata": {},
   "outputs": [
    {
     "name": "stdout",
     "output_type": "stream",
     "text": [
      "/home/kaldi/src/featbin/compute-mfcc-feats \n",
      "\n",
      "Create MFCC feature files.\n",
      "Usage:  compute-mfcc-feats [options...] <wav-rspecifier> <feats-wspecifier>\n",
      "\n",
      "Options:\n",
      "  --blackman-coeff            : Constant coefficient for generalized Blackman window. (float, default = 0.42)\n",
      "  --cepstral-lifter           : Constant that controls scaling of MFCCs (float, default = 22)\n",
      "  --channel                   : Channel to extract (-1 -> expect mono, 0 -> left, 1 -> right) (int, default = -1)\n",
      "  --debug-mel                 : Print out debugging information for mel bin computation (bool, default = false)\n",
      "  --dither                    : Dithering constant (0.0 means no dither) (float, default = 1)\n",
      "  --energy-floor              : Floor on energy (absolute, not relative) in MFCC computation (float, default = 0)\n",
      "  --frame-length              : Frame length in milliseconds (float, default = 25)\n",
      "  --frame-shift               : Frame shift in milliseconds (float, default = 10)\n",
      "  --high-freq                 : High cutoff frequency for mel bins (if < 0, offset from Nyquist) (float, default = 0)\n",
      "  --htk-compat                : If true, put energy or C0 last and use a factor of sqrt(2) on C0.  Warning: not sufficient to get HTK compatible features (need to change other parameters). (bool, default = false)\n",
      "  --low-freq                  : Low cutoff frequency for mel bins (float, default = 20)\n",
      "  --min-duration              : Minimum duration of segments to process (in seconds). (float, default = 0)\n",
      "  --num-ceps                  : Number of cepstra in MFCC computation (including C0) (int, default = 13)\n",
      "  --num-mel-bins              : Number of triangular mel-frequency bins (int, default = 23)\n",
      "  --output-format             : Format of the output files [kaldi, htk] (string, default = \"kaldi\")\n",
      "  --preemphasis-coefficient   : Coefficient for use in signal preemphasis (float, default = 0.97)\n",
      "  --raw-energy                : If true, compute energy before preemphasis and windowing (bool, default = true)\n",
      "  --remove-dc-offset          : Subtract mean from waveform on each frame (bool, default = true)\n",
      "  --round-to-power-of-two     : If true, round window size to power of two by zero-padding input to FFT. (bool, default = true)\n",
      "  --sample-frequency          : Waveform data sample frequency (must match the waveform file, if specified there) (float, default = 16000)\n",
      "  --snip-edges                : If true, end effects will be handled by outputting only frames that completely fit in the file, and the number of frames depends on the frame-length.  If false, the number of frames depends only on the frame-shift, and we reflect the data at the ends. (bool, default = true)\n",
      "  --subtract-mean             : Subtract mean of each feature file [CMS]; not recommended to do it this way.  (bool, default = false)\n",
      "  --use-energy                : Use energy (not C0) in MFCC computation (bool, default = true)\n",
      "  --utt2spk                   : Utterance to speaker-id map rspecifier (if doing VTLN and you have warps per speaker) (string, default = \"\")\n",
      "  --vtln-high                 : High inflection point in piecewise linear VTLN warping function (if negative, offset from high-mel-freq (float, default = -500)\n",
      "  --vtln-low                  : Low inflection point in piecewise linear VTLN warping function (float, default = 100)\n",
      "  --vtln-map                  : Map from utterance or speaker-id to vtln warp factor (rspecifier) (string, default = \"\")\n",
      "  --vtln-warp                 : Vtln warp factor (only applicable if vtln-map not specified) (float, default = 1)\n",
      "  --window-type               : Type of window (\"hamming\"|\"hanning\"|\"povey\"|\"rectangular\"|\"blackmann\") (string, default = \"povey\")\n",
      "\n",
      "Standard options:\n",
      "  --config                    : Configuration file to read (this option may be repeated) (string, default = \"\")\n",
      "  --help                      : Print out usage message (bool, default = false)\n",
      "  --print-args                : Print the command line arguments (to stderr) (bool, default = true)\n",
      "  --verbose                   : Verbose level (higher->more logging) (int, default = 0)\n",
      "\n"
     ]
    },
    {
     "ename": "",
     "evalue": "1",
     "output_type": "error",
     "traceback": []
    }
   ],
   "source": [
    "$KALDI_HOME/src/featbin/compute-mfcc-feats"
   ]
  },
  {
   "cell_type": "code",
   "execution_count": 8,
   "metadata": {},
   "outputs": [
    {
     "name": "stdout",
     "output_type": "stream",
     "text": [
      "/home/kaldi/src/featbin/compute-mfcc-feats --use-energy=false --sample-frequency=16000 scp,p:../data/lib-0001-fc-008-part.scp ark,t:../data/lib-0001-fc-008-part.mfcc \n",
      "LOG (compute-mfcc-feats[5.2.38~1-b82b8]:main():compute-mfcc-feats.cc:181)  Done 1 out of 1 utterances.\n"
     ]
    }
   ],
   "source": [
    "$KALDI_HOME/src/featbin/compute-mfcc-feats --use-energy=false --sample-frequency=16000 scp,p:$scp ark,t:$out"
   ]
  },
  {
   "cell_type": "code",
   "execution_count": 9,
   "metadata": {},
   "outputs": [
    {
     "name": "stdout",
     "output_type": "stream",
     "text": [
      "lib-0001-fc-008-part  [\n",
      "  55.01686 -26.1352 11.15753 8.504182 4.739477 4.335448 16.54776 15.44851 9.081939 3.923949 11.82215 5.880532 3.711599 \n",
      "  51.84465 -21.42323 5.298932 5.108953 13.01562 6.556363 16.44332 11.42399 15.88228 7.115253 7.436901 19.54826 13.14637 \n",
      "  50.09318 -16.62519 3.696499 5.460965 2.244945 -0.3533612 8.697197 16.7923 15.00398 13.0776 9.499442 10.01541 13.38338 \n",
      "  49.42658 -16.84355 5.369304 4.661971 7.406772 11.4414 13.085 12.81888 7.68414 12.47594 20.36843 19.47887 12.01775 \n"
     ]
    }
   ],
   "source": [
    "head -n 5 $out"
   ]
  },
  {
   "cell_type": "code",
   "execution_count": null,
   "metadata": {
    "collapsed": true
   },
   "outputs": [],
   "source": []
  }
 ],
 "metadata": {
  "kernelspec": {
   "display_name": "Bash",
   "language": "bash",
   "name": "bash"
  },
  "language_info": {
   "codemirror_mode": "shell",
   "file_extension": ".sh",
   "mimetype": "text/x-sh",
   "name": "bash"
  }
 },
 "nbformat": 4,
 "nbformat_minor": 2
}

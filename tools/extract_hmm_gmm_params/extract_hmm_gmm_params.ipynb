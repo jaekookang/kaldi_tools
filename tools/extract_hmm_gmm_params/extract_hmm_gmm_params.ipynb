{
 "cells": [
  {
   "cell_type": "markdown",
   "metadata": {},
   "source": [
    "# Extract HMM & GMM parameters from the acoustic model\n",
    "\n",
    "- 목적: 칼디의 acoustic model로부터 HMM과 GMM 패러미터 추출\n",
    "- 인풋:\n",
    "    - final.txt: e.g. .txt converted model file from final.mdl (using `gmm-copy`; [look](https://github.com/jaekookang/kaldi_tools/blob/master/tools/convert_mdl_to_txt.ipynb))\n",
    "    - phones.txt: list of phones\n",
    "    - sets.txt: set of phone groups\n",
    "    - trans_prob.txt: .txt converted transition prob file from final.mdl (using `show-transitions`; [look](https://github.com/jaekookang/kaldi_tools/blob/master/tools/show_transition.ipynb))\n",
    "- 아웃풋:\n",
    "    - GetParam Python object\n",
    "        > H.hmm: state, transition prob, self-loop prob, gmm_id (pdf id)  \n",
    "        > H.gmm: number of Gaussians, weight, mean, val"
   ]
  },
  {
   "cell_type": "markdown",
   "metadata": {},
   "source": [
    "## 준비"
   ]
  },
  {
   "cell_type": "code",
   "execution_count": 3,
   "metadata": {
    "collapsed": true
   },
   "outputs": [],
   "source": [
    "from get_hmm_gmm import GetParam\n",
    "\n",
    "mdl_txt = 'data/final.txt'\n",
    "trans_txt = 'data/trans_prob.txt'\n",
    "phones_txt = 'data/phones.txt'\n",
    "sets_txt = 'data/sets.txt'\n",
    "save_dir = 'result'"
   ]
  },
  {
   "cell_type": "markdown",
   "metadata": {},
   "source": [
    "## 실행"
   ]
  },
  {
   "cell_type": "code",
   "execution_count": 4,
   "metadata": {},
   "outputs": [
    {
     "name": "stdout",
     "output_type": "stream",
     "text": [
      "data/phones.txt is loaded\n",
      "data/trans_prob.txt is loaded\n",
      "  nonsilence phones were succefully loaded\n",
      "  silence phones were succefully loaded\n",
      "data/final.txt is loaded\n",
      "\n",
      "        ==============================================================\n",
      "        Now try following:\n",
      "        \n",
      "        >> H.hmm['AA_B'].keys() # get each phone info\n",
      "           dict_keys(['states', 'trans_prob', 'self_loop_prob', 'gmm_id'])\n",
      "        >> H.hmm['AA_B']['gmm_id'] # get gmm id (=pdf id)\n",
      "           [10, 11, 12]\n",
      "        >> H.gmm[[10, 11, 12]].keys() # access gmm info\n",
      "           dict_keys(['num_gmm', 'weight', 'mean', 'var'])\n",
      "        ==============================================================        \n",
      "        \n",
      "data/sets.txt is loaded\n"
     ]
    }
   ],
   "source": [
    "K = GetParam(mdl_txt, trans_txt, phones_txt, sets_txt, save_dir)"
   ]
  },
  {
   "cell_type": "markdown",
   "metadata": {},
   "source": [
    "## 결과"
   ]
  },
  {
   "cell_type": "code",
   "execution_count": 5,
   "metadata": {},
   "outputs": [
    {
     "data": {
      "text/plain": [
       "dict_keys(['AA_B', 'AA_E', 'AA_I', 'AA_S', 'AA0_B', 'AA0_E', 'AA0_I', 'AA0_S', 'AA1_B', 'AA1_E', 'AA1_I', 'AA1_S', 'AA2_B', 'AA2_E', 'AA2_I', 'AA2_S', 'CH_B', 'CH_E', 'CH_I', 'CH_S', 'AO_B', 'AO_E', 'AO_I', 'AO_S', 'AO0_B', 'AO0_E', 'AO0_I', 'AO0_S', 'AO1_B', 'AO1_E', 'AO1_I', 'AO1_S', 'AO2_B', 'AO2_E', 'AO2_I', 'AO2_S', 'S_B', 'S_E', 'S_I', 'S_S', 'DH_B', 'DH_E', 'DH_I', 'DH_S', 'M_B', 'M_E', 'M_I', 'M_S', 'B_B', 'B_E', 'B_I', 'B_S', 'HH_B', 'HH_E', 'HH_I', 'HH_S', 'AH_B', 'AH_E', 'AH_I', 'AH_S', 'AH0_B', 'AH0_E', 'AH0_I', 'AH0_S', 'AH1_B', 'AH1_E', 'AH1_I', 'AH1_S', 'AH2_B', 'AH2_E', 'AH2_I', 'AH2_S', 'SH_B', 'SH_E', 'SH_I', 'SH_S', 'N_B', 'N_E', 'N_I', 'N_S', 'UH_B', 'UH_E', 'UH_I', 'UH_S', 'UH0_B', 'UH0_E', 'UH0_I', 'UH0_S', 'UH1_B', 'UH1_E', 'UH1_I', 'UH1_S', 'UH2_B', 'UH2_E', 'UH2_I', 'UH2_S', 'ER_B', 'ER_E', 'ER_I', 'ER_S', 'ER0_B', 'ER0_E', 'ER0_I', 'ER0_S', 'ER1_B', 'ER1_E', 'ER1_I', 'ER1_S', 'ER2_B', 'ER2_E', 'ER2_I', 'ER2_S', 'L_B', 'L_E', 'L_I', 'L_S', 'R_B', 'R_E', 'R_I', 'R_S', 'P_B', 'P_E', 'P_I', 'P_S', 'UW_B', 'UW_E', 'UW_I', 'UW_S', 'UW0_B', 'UW0_E', 'UW0_I', 'UW0_S', 'UW1_B', 'UW1_E', 'UW1_I', 'UW1_S', 'UW2_B', 'UW2_E', 'UW2_I', 'UW2_S', 'F_B', 'F_E', 'F_I', 'F_S', 'Z_B', 'Z_E', 'Z_I', 'Z_S', 'IH_B', 'IH_E', 'IH_I', 'IH_S', 'IH0_B', 'IH0_E', 'IH0_I', 'IH0_S', 'IH1_B', 'IH1_E', 'IH1_I', 'IH1_S', 'IH2_B', 'IH2_E', 'IH2_I', 'IH2_S', 'AY_B', 'AY_E', 'AY_I', 'AY_S', 'AY0_B', 'AY0_E', 'AY0_I', 'AY0_S', 'AY1_B', 'AY1_E', 'AY1_I', 'AY1_S', 'AY2_B', 'AY2_E', 'AY2_I', 'AY2_S', 'AW_B', 'AW_E', 'AW_I', 'AW_S', 'AW0_B', 'AW0_E', 'AW0_I', 'AW0_S', 'AW1_B', 'AW1_E', 'AW1_I', 'AW1_S', 'AW2_B', 'AW2_E', 'AW2_I', 'AW2_S', 'ZH_B', 'ZH_E', 'ZH_I', 'ZH_S', 'TH_B', 'TH_E', 'TH_I', 'TH_S', 'NG_B', 'NG_E', 'NG_I', 'NG_S', 'AE_B', 'AE_E', 'AE_I', 'AE_S', 'AE0_B', 'AE0_E', 'AE0_I', 'AE0_S', 'AE1_B', 'AE1_E', 'AE1_I', 'AE1_S', 'AE2_B', 'AE2_E', 'AE2_I', 'AE2_S', 'T_B', 'T_E', 'T_I', 'T_S', 'JH_B', 'JH_E', 'JH_I', 'JH_S', 'EY_B', 'EY_E', 'EY_I', 'EY_S', 'EY0_B', 'EY0_E', 'EY0_I', 'EY0_S', 'EY1_B', 'EY1_E', 'EY1_I', 'EY1_S', 'EY2_B', 'EY2_E', 'EY2_I', 'EY2_S', 'K_B', 'K_E', 'K_I', 'K_S', 'W_B', 'W_E', 'W_I', 'W_S', 'G_B', 'G_E', 'G_I', 'G_S', 'EH_B', 'EH_E', 'EH_I', 'EH_S', 'EH0_B', 'EH0_E', 'EH0_I', 'EH0_S', 'EH1_B', 'EH1_E', 'EH1_I', 'EH1_S', 'EH2_B', 'EH2_E', 'EH2_I', 'EH2_S', 'D_B', 'D_E', 'D_I', 'D_S', 'OY_B', 'OY_E', 'OY_I', 'OY_S', 'OY0_B', 'OY0_E', 'OY0_I', 'OY0_S', 'OY1_B', 'OY1_E', 'OY1_I', 'OY1_S', 'OY2_B', 'OY2_E', 'OY2_I', 'OY2_S', 'IY_B', 'IY_E', 'IY_I', 'IY_S', 'IY0_B', 'IY0_E', 'IY0_I', 'IY0_S', 'IY1_B', 'IY1_E', 'IY1_I', 'IY1_S', 'IY2_B', 'IY2_E', 'IY2_I', 'IY2_S', 'Y_B', 'Y_E', 'Y_I', 'Y_S', 'V_B', 'V_E', 'V_I', 'V_S', 'OW_B', 'OW_E', 'OW_I', 'OW_S', 'OW0_B', 'OW0_E', 'OW0_I', 'OW0_S', 'OW1_B', 'OW1_E', 'OW1_I', 'OW1_S', 'OW2_B', 'OW2_E', 'OW2_I', 'OW2_S', 'SIL', 'SIL_B', 'SIL_E', 'SIL_I', 'SIL_S', 'SPN', 'SPN_B', 'SPN_E', 'SPN_I', 'SPN_S'])"
      ]
     },
     "execution_count": 5,
     "metadata": {},
     "output_type": "execute_result"
    }
   ],
   "source": [
    "K.hmm.keys()"
   ]
  },
  {
   "cell_type": "code",
   "execution_count": 6,
   "metadata": {},
   "outputs": [
    {
     "data": {
      "text/plain": [
       "dict_keys([0, 1, 2, 3, 4, 5, 6, 7, 8, 9, 10, 11, 12, 13, 14, 15, 16, 17, 18, 19, 20, 21, 22, 23, 24, 25, 26, 27, 28, 29, 30, 31, 32, 33, 34, 35, 36, 37, 38, 39, 40, 41, 42, 43, 44, 45, 46, 47, 48, 49, 50, 51, 52, 53, 54, 55, 56, 57, 58, 59, 60, 61, 62, 63, 64, 65, 66, 67, 68, 69, 70, 71, 72, 73, 74, 75, 76, 77, 78, 79, 80, 81, 82, 83, 84, 85, 86, 87, 88, 89, 90, 91, 92, 93, 94, 95, 96, 97, 98, 99, 100, 101, 102, 103, 104, 105, 106, 107, 108, 109, 110, 111, 112, 113, 114, 115, 116, 117, 118, 119, 120, 121, 122, 123, 124, 125, 126])"
      ]
     },
     "execution_count": 6,
     "metadata": {},
     "output_type": "execute_result"
    }
   ],
   "source": [
    "K.gmm.keys()"
   ]
  },
  {
   "cell_type": "code",
   "execution_count": 7,
   "metadata": {},
   "outputs": [
    {
     "name": "stdout",
     "output_type": "stream",
     "text": [
      "result/2018-01-27_21-45-45_hmm_gmm.pckl saved\n"
     ]
    }
   ],
   "source": [
    "K.save_dict()"
   ]
  },
  {
   "cell_type": "code",
   "execution_count": null,
   "metadata": {
    "collapsed": true
   },
   "outputs": [],
   "source": []
  }
 ],
 "metadata": {
  "kernelspec": {
   "display_name": "Python 3",
   "language": "python",
   "name": "python3"
  },
  "language_info": {
   "codemirror_mode": {
    "name": "ipython",
    "version": 3
   },
   "file_extension": ".py",
   "mimetype": "text/x-python",
   "name": "python",
   "nbconvert_exporter": "python",
   "pygments_lexer": "ipython3",
   "version": "3.6.3"
  }
 },
 "nbformat": 4,
 "nbformat_minor": 2
}

{
 "cells": [
  {
   "cell_type": "markdown",
   "metadata": {},
   "source": [
    "# Draw tree\n",
    "\n",
    "- 목적: tree파일을 .pdf파일로 변환하기\n",
    "- 인풋:\n",
    "    - phones.txt\n",
    "    - tree\n",
    "- 아웃풋:\n",
    "    - .pdf\n",
    "- 주의:\n",
    "    - graphviz설치 필요 <a href=\"https://graphviz.gitlab.io/_pages/Download/Download_source.html\">Link</a>"
   ]
  },
  {
   "cell_type": "markdown",
   "metadata": {},
   "source": [
    "## 준비"
   ]
  },
  {
   "cell_type": "code",
   "execution_count": 1,
   "metadata": {
    "collapsed": true
   },
   "outputs": [],
   "source": [
    "KALDI_HOME=/home/kaldi\n",
    "phones_txt=../data/phones.txt\n",
    "tree_file=../data/tree\n",
    "tree_pdf=../result/tree.pdf"
   ]
  },
  {
   "cell_type": "code",
   "execution_count": 2,
   "metadata": {},
   "outputs": [
    {
     "name": "stdout",
     "output_type": "stream",
     "text": [
      "/home/kaldi/src/bin/draw-tree \n",
      "\n",
      "Outputs a decision tree description in GraphViz format\n",
      "Usage: draw-tree [options] <phone-symbols> <tree>\n",
      "e.g.: draw-tree phones.txt tree | dot -Gsize=8,10.5 -Tps | ps2pdf - tree.pdf\n",
      "\n",
      "Options:\n",
      "  --gen-html                  : generates HTML boilerplate(useful with SVG) (bool, default = false)\n",
      "  --query                     : a query to trace through the tree(format: pdf-class/ctx-phone1/.../ctx-phoneN) (string, default = \"\")\n",
      "  --use-tooltips              : use tooltips instead of labels (bool, default = false)\n",
      "\n",
      "Standard options:\n",
      "  --config                    : Configuration file to read (this option may be repeated) (string, default = \"\")\n",
      "  --help                      : Print out usage message (bool, default = false)\n",
      "  --print-args                : Print the command line arguments (to stderr) (bool, default = true)\n",
      "  --verbose                   : Verbose level (higher->more logging) (int, default = 0)\n",
      "\n"
     ]
    },
    {
     "ename": "",
     "evalue": "255",
     "output_type": "error",
     "traceback": []
    }
   ],
   "source": [
    "$KALDI_HOME/src/bin/draw-tree"
   ]
  },
  {
   "cell_type": "markdown",
   "metadata": {},
   "source": [
    "## 실행"
   ]
  },
  {
   "cell_type": "code",
   "execution_count": 3,
   "metadata": {},
   "outputs": [
    {
     "name": "stdout",
     "output_type": "stream",
     "text": [
      "/home/kaldi/src/bin/draw-tree ../data/phones.txt ../data/tree \n"
     ]
    }
   ],
   "source": [
    "$KALDI_HOME/src/bin/draw-tree $phones_txt $tree_file | dot -Tps -Gsize=8,10.5 | ps2pdf - $tree_pdf"
   ]
  },
  {
   "cell_type": "markdown",
   "metadata": {},
   "source": [
    "## 결과"
   ]
  },
  {
   "cell_type": "markdown",
   "metadata": {
    "collapsed": true
   },
   "source": [
    "<iframe src=\"../result/tree.pdf\" style=\"width:718px; height:700px;\" frameborder=\"0\"></iframe>"
   ]
  }
 ],
 "metadata": {
  "kernelspec": {
   "display_name": "Bash",
   "language": "bash",
   "name": "bash"
  },
  "language_info": {
   "codemirror_mode": "shell",
   "file_extension": ".sh",
   "mimetype": "text/x-sh",
   "name": "bash"
  }
 },
 "nbformat": 4,
 "nbformat_minor": 2
}
